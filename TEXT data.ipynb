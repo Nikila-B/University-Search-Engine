{
 "cells": [
  {
   "cell_type": "code",
   "execution_count": null,
   "id": "another-closer",
   "metadata": {
    "ExecuteTime": {
     "end_time": "2021-08-01T23:29:53.319184Z",
     "start_time": "2021-08-01T23:29:52.131137Z"
    }
   },
   "outputs": [],
   "source": [
    "import pandas as pd"
   ]
  },
  {
   "cell_type": "code",
   "execution_count": null,
   "id": "acceptable-alpha",
   "metadata": {
    "ExecuteTime": {
     "end_time": "2021-08-01T23:30:35.152207Z",
     "start_time": "2021-08-01T23:30:35.057016Z"
    }
   },
   "outputs": [],
   "source": [
    "training_dataset = pd.read_csv('news_df.csv')"
   ]
  },
  {
   "cell_type": "code",
   "execution_count": 13,
   "id": "charming-andrew",
   "metadata": {
    "ExecuteTime": {
     "end_time": "2021-08-01T23:32:17.436275Z",
     "start_time": "2021-08-01T23:32:17.428074Z"
    }
   },
   "outputs": [
    {
     "name": "stdout",
     "output_type": "stream",
     "text": [
      "      Unnamed: 0                                               Text     Class\n",
      "0              0  UK economy facing 'major risks'\\n\\nThe UK manu...  business\n",
      "1              1  Aids and climate top Davos agenda\\n\\nClimate c...  business\n",
      "2              2  Asian quake hits European shares\\n\\nShares in ...  business\n",
      "3              3  India power shares jump on debut\\n\\nShares in ...  business\n",
      "4              4  Lacroix label bought by US firm\\n\\nLuxury good...  business\n",
      "...          ...                                                ...       ...\n",
      "1292        1292  Bookmakers back Aviator for Oscar\\n\\nThe Aviat...      arts\n",
      "1293        1293  Scissor Sisters triumph at Brits\\n\\nUS band Sc...      arts\n",
      "1294        1294  Spears seeks aborted tour payment\\n\\nSinger Br...      arts\n",
      "1295        1295  Angels 'favourite funeral song'\\n\\nAngels by R...      arts\n",
      "1296        1296  DJ double act revamp chart show\\n\\nDJ duo JK a...      arts\n",
      "\n",
      "[1297 rows x 3 columns]\n"
     ]
    }
   ],
   "source": [
    "print(training_dataset)"
   ]
  },
  {
   "cell_type": "code",
   "execution_count": 14,
   "id": "based-preliminary",
   "metadata": {
    "ExecuteTime": {
     "end_time": "2021-08-01T23:35:40.212983Z",
     "start_time": "2021-08-01T23:35:39.526014Z"
    }
   },
   "outputs": [
    {
     "name": "stderr",
     "output_type": "stream",
     "text": [
      "IOPub data rate exceeded.\n",
      "The notebook server will temporarily stop sending output\n",
      "to the client in order to avoid crashing it.\n",
      "To change this limit, set the config variable\n",
      "`--NotebookApp.iopub_data_rate_limit`.\n",
      "\n",
      "Current values:\n",
      "NotebookApp.iopub_data_rate_limit=1000000.0 (bytes/sec)\n",
      "NotebookApp.rate_limit_window=3.0 (secs)\n",
      "\n"
     ]
    }
   ],
   "source": [
    "for text,label in zip(training_dataset.Text, training_dataset.Class):\n",
    "    print(f'CATEGORY: {label}')\n",
    "    print('\\n')\n",
    "    print(f'TEXT: {text}')\n",
    "    print('\\n\\n')\n",
    "    "
   ]
  }
 ],
 "metadata": {
  "kernelspec": {
   "display_name": "Python 3 (ipykernel)",
   "language": "python",
   "name": "python3"
  },
  "language_info": {
   "codemirror_mode": {
    "name": "ipython",
    "version": 3
   },
   "file_extension": ".py",
   "mimetype": "text/x-python",
   "name": "python",
   "nbconvert_exporter": "python",
   "pygments_lexer": "ipython3",
   "version": "3.9.13"
  },
  "varInspector": {
   "cols": {
    "lenName": 16,
    "lenType": 16,
    "lenVar": 40
   },
   "kernels_config": {
    "python": {
     "delete_cmd_postfix": "",
     "delete_cmd_prefix": "del ",
     "library": "var_list.py",
     "varRefreshCmd": "print(var_dic_list())"
    },
    "r": {
     "delete_cmd_postfix": ") ",
     "delete_cmd_prefix": "rm(",
     "library": "var_list.r",
     "varRefreshCmd": "cat(var_dic_list()) "
    }
   },
   "types_to_exclude": [
    "module",
    "function",
    "builtin_function_or_method",
    "instance",
    "_Feature"
   ],
   "window_display": false
  }
 },
 "nbformat": 4,
 "nbformat_minor": 5
}
